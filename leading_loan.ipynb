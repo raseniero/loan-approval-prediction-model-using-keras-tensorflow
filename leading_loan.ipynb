{
 "cells": [
  {
   "cell_type": "code",
   "execution_count": 16,
   "metadata": {},
   "outputs": [],
   "source": [
    "import pandas as pd\n",
    "import numpy as np\n",
    "import matplotlib.pyplot as plt\n",
    "import seaborn as sns\n",
    "\n",
    "%matplotlib inline"
   ]
  },
  {
   "cell_type": "code",
   "execution_count": 17,
   "metadata": {},
   "outputs": [],
   "source": [
    "from sklearn.model_selection import train_test_split\n",
    "from sklearn import preprocessing\n",
    "from sklearn.preprocessing import StandardScaler, MinMaxScaler\n",
    "from keras.models import Sequential\n",
    "from keras.layers import Dense\n",
    "from keras.optimizers import Adam\n",
    "from keras.regularizers import l2"
   ]
  },
  {
   "cell_type": "code",
   "execution_count": 18,
   "metadata": {},
   "outputs": [],
   "source": [
    "df_loan_data = pd.read_csv(\"loan_data.csv\")"
   ]
  },
  {
   "cell_type": "code",
   "execution_count": 19,
   "metadata": {},
   "outputs": [],
   "source": [
    "# df_loan_data.head()"
   ]
  },
  {
   "cell_type": "code",
   "execution_count": 20,
   "metadata": {},
   "outputs": [],
   "source": [
    "# df_loan_data.info()"
   ]
  },
  {
   "cell_type": "code",
   "execution_count": 21,
   "metadata": {},
   "outputs": [],
   "source": [
    "# Separate features and target variable\n",
    "X = df_loan_data.drop(\"not.fully.paid\", axis=1)\n",
    "y = df_loan_data[\"not.fully.paid\"]"
   ]
  },
  {
   "cell_type": "code",
   "execution_count": 22,
   "metadata": {},
   "outputs": [],
   "source": [
    "# Label encoding for categorical variables\n",
    "label_encoding = preprocessing.LabelEncoder()\n",
    "# X[\"purpose\"] = label_encoding.fit_transform(X[\"purpose\"])"
   ]
  },
  {
   "cell_type": "code",
   "execution_count": 23,
   "metadata": {},
   "outputs": [],
   "source": [
    "# One-hot encode categorical features\n",
    "X = pd.get_dummies(X, columns=[\"purpose\"])"
   ]
  },
  {
   "cell_type": "code",
   "execution_count": 9,
   "metadata": {},
   "outputs": [],
   "source": [
    "# X.head()"
   ]
  },
  {
   "cell_type": "code",
   "execution_count": 24,
   "metadata": {},
   "outputs": [],
   "source": [
    "# Split data into train and test sets\n",
    "X_train, X_test, y_train, y_test = train_test_split(\n",
    "    X, y, test_size=0.2, random_state=42\n",
    ")"
   ]
  },
  {
   "cell_type": "code",
   "execution_count": 25,
   "metadata": {},
   "outputs": [],
   "source": [
    "# Scale numerical features\n",
    "\n",
    "# scaler = StandardScaler()\n",
    "scaler = MinMaxScaler()\n",
    "X_train = scaler.fit_transform(X_train)\n",
    "X_test = scaler.transform(X_test)"
   ]
  },
  {
   "cell_type": "code",
   "execution_count": 26,
   "metadata": {},
   "outputs": [],
   "source": [
    "# Define the model architecture\n",
    "model = Sequential()\n",
    "model.add(\n",
    "    Dense(128, activation=\"relu\", input_shape=(X_train.shape[1],))\n",
    ")  # kernel_regularizer=l2(0.01),\n",
    "model.add(\n",
    "    Dense(\n",
    "        64,\n",
    "        activation=\"relu\",\n",
    "    )\n",
    ")  # kernel_regularizer=l2(0.01)\n",
    "model.add(Dense(1, activation=\"sigmoid\"))"
   ]
  },
  {
   "cell_type": "code",
   "execution_count": 27,
   "metadata": {},
   "outputs": [],
   "source": [
    "# Compile the model\n",
    "from keras.metrics import Precision, Recall, AUC\n",
    "\n",
    "model.compile(\n",
    "    loss=\"binary_crossentropy\",\n",
    "    optimizer=Adam(learning_rate=0.001),\n",
    "    metrics=[\"accuracy\", Precision(), Recall(), AUC()],\n",
    ")"
   ]
  },
  {
   "cell_type": "code",
   "execution_count": 28,
   "metadata": {},
   "outputs": [
    {
     "name": "stdout",
     "output_type": "stream",
     "text": [
      "Epoch 1/20\n",
      "240/240 [==============================] - 1s 2ms/step - loss: 0.4343 - accuracy: 0.8395 - precision_1: 0.4375 - recall_1: 0.0057 - auc_1: 0.6081\n",
      "Epoch 2/20\n",
      "240/240 [==============================] - 0s 1ms/step - loss: 0.4173 - accuracy: 0.8401 - precision_1: 0.6667 - recall_1: 0.0049 - auc_1: 0.6602\n",
      "Epoch 3/20\n",
      "240/240 [==============================] - 0s 1ms/step - loss: 0.4170 - accuracy: 0.8404 - precision_1: 0.6471 - recall_1: 0.0090 - auc_1: 0.6590\n",
      "Epoch 4/20\n",
      "240/240 [==============================] - 0s 1ms/step - loss: 0.4149 - accuracy: 0.8414 - precision_1: 0.8095 - recall_1: 0.0138 - auc_1: 0.6658\n",
      "Epoch 5/20\n",
      "240/240 [==============================] - 0s 1ms/step - loss: 0.4127 - accuracy: 0.8416 - precision_1: 0.7059 - recall_1: 0.0195 - auc_1: 0.6728\n",
      "Epoch 6/20\n",
      "240/240 [==============================] - 0s 1ms/step - loss: 0.4126 - accuracy: 0.8401 - precision_1: 0.5349 - recall_1: 0.0187 - auc_1: 0.6701\n",
      "Epoch 7/20\n",
      "240/240 [==============================] - 0s 1ms/step - loss: 0.4117 - accuracy: 0.8406 - precision_1: 0.5714 - recall_1: 0.0228 - auc_1: 0.6758\n",
      "Epoch 8/20\n",
      "240/240 [==============================] - 0s 1ms/step - loss: 0.4110 - accuracy: 0.8405 - precision_1: 0.5652 - recall_1: 0.0212 - auc_1: 0.6757\n",
      "Epoch 9/20\n",
      "240/240 [==============================] - 0s 1ms/step - loss: 0.4084 - accuracy: 0.8419 - precision_1: 0.6308 - recall_1: 0.0334 - auc_1: 0.6833\n",
      "Epoch 10/20\n",
      "240/240 [==============================] - 0s 1ms/step - loss: 0.4083 - accuracy: 0.8423 - precision_1: 0.6562 - recall_1: 0.0342 - auc_1: 0.6817\n",
      "Epoch 11/20\n",
      "240/240 [==============================] - 0s 1ms/step - loss: 0.4080 - accuracy: 0.8430 - precision_1: 0.6761 - recall_1: 0.0391 - auc_1: 0.6814\n",
      "Epoch 12/20\n",
      "240/240 [==============================] - 0s 1ms/step - loss: 0.4060 - accuracy: 0.8434 - precision_1: 0.7000 - recall_1: 0.0399 - auc_1: 0.6882\n",
      "Epoch 13/20\n",
      "240/240 [==============================] - 0s 1ms/step - loss: 0.4069 - accuracy: 0.8427 - precision_1: 0.6456 - recall_1: 0.0415 - auc_1: 0.6866\n",
      "Epoch 14/20\n",
      "240/240 [==============================] - 0s 1ms/step - loss: 0.4042 - accuracy: 0.8433 - precision_1: 0.6364 - recall_1: 0.0513 - auc_1: 0.6938\n",
      "Epoch 15/20\n",
      "240/240 [==============================] - 0s 1ms/step - loss: 0.4037 - accuracy: 0.8442 - precision_1: 0.6518 - recall_1: 0.0594 - auc_1: 0.6934\n",
      "Epoch 16/20\n",
      "240/240 [==============================] - 0s 1ms/step - loss: 0.4025 - accuracy: 0.8435 - precision_1: 0.6381 - recall_1: 0.0546 - auc_1: 0.6969\n",
      "Epoch 17/20\n",
      "240/240 [==============================] - 0s 1ms/step - loss: 0.4028 - accuracy: 0.8423 - precision_1: 0.5926 - recall_1: 0.0521 - auc_1: 0.6952\n",
      "Epoch 18/20\n",
      "240/240 [==============================] - 0s 1ms/step - loss: 0.4014 - accuracy: 0.8438 - precision_1: 0.6260 - recall_1: 0.0627 - auc_1: 0.6985\n",
      "Epoch 19/20\n",
      "240/240 [==============================] - 0s 1ms/step - loss: 0.4002 - accuracy: 0.8449 - precision_1: 0.6724 - recall_1: 0.0635 - auc_1: 0.7014\n",
      "Epoch 20/20\n",
      "240/240 [==============================] - 0s 1ms/step - loss: 0.3996 - accuracy: 0.8448 - precision_1: 0.6535 - recall_1: 0.0676 - auc_1: 0.7012\n"
     ]
    },
    {
     "data": {
      "text/plain": [
       "<keras.src.callbacks.History at 0x14063c290>"
      ]
     },
     "execution_count": 28,
     "metadata": {},
     "output_type": "execute_result"
    }
   ],
   "source": [
    "# Train the model\n",
    "model.fit(X_train, y_train, epochs=20, batch_size=32)"
   ]
  },
  {
   "cell_type": "code",
   "execution_count": 29,
   "metadata": {},
   "outputs": [
    {
     "name": "stdout",
     "output_type": "stream",
     "text": [
      "60/60 [==============================] - 0s 1ms/step - loss: 0.4076 - accuracy: 0.8372 - precision_1: 0.2667 - recall_1: 0.0131 - auc_1: 0.7032    \n",
      "Test loss: 0.4076022207736969\n",
      "Test accuracy: 0.8371607661247253\n",
      "Test precision: 0.2666666805744171\n",
      "Test recall: 0.013114754110574722\n",
      "Test auc: 0.7031687498092651\n"
     ]
    }
   ],
   "source": [
    "# Evaluate the model on test data\n",
    "loss, accuracy, precision, recall, auc = model.evaluate(X_test, y_test)\n",
    "print(\"Test loss:\", loss)\n",
    "print(\"Test accuracy:\", accuracy)\n",
    "print(\"Test precision:\", precision)\n",
    "print(\"Test recall:\", recall)\n",
    "print(\"Test auc:\", auc)"
   ]
  }
 ],
 "metadata": {
  "kernelspec": {
   "display_name": ".venv",
   "language": "python",
   "name": "python3"
  },
  "language_info": {
   "codemirror_mode": {
    "name": "ipython",
    "version": 3
   },
   "file_extension": ".py",
   "mimetype": "text/x-python",
   "name": "python",
   "nbconvert_exporter": "python",
   "pygments_lexer": "ipython3",
   "version": "3.11.5"
  }
 },
 "nbformat": 4,
 "nbformat_minor": 2
}
